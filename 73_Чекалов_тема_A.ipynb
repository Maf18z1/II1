{
  "cells": [
    {
      "cell_type": "markdown",
      "metadata": {
        "id": "view-in-github",
        "colab_type": "text"
      },
      "source": [
        "<a href=\"https://colab.research.google.com/github/Maf18z1/II1/blob/II/73_%D0%A7%D0%B5%D0%BA%D0%B0%D0%BB%D0%BE%D0%B2_%D1%82%D0%B5%D0%BC%D0%B0_A.ipynb\" target=\"_parent\"><img src=\"https://colab.research.google.com/assets/colab-badge.svg\" alt=\"Open In Colab\"/></a>"
      ]
    },
    {
      "cell_type": "markdown",
      "id": "a80ad2a6",
      "metadata": {
        "id": "a80ad2a6"
      },
      "source": [
        "# Ознакомительная практика. Тема A. 73_Чекалов"
      ]
    },
    {
      "cell_type": "markdown",
      "id": "fac60a91",
      "metadata": {
        "id": "fac60a91"
      },
      "source": [
        "## Задание A1\n",
        "Написать функцию very_even(number), которая определяет является ли число \"очень четным\".  \n",
        "Однозначное число \"очень четное\", если оно четное. Числа больше 10 \"очень четные\",  \n",
        "если сумма их цифр - \"очень четное\" число.  \n",
        "\n",
        "Примеры:\n",
        "```python\n",
        "very_even(88) => False -> 8 + 8 = 16 -> 1 + 6 = 7 => 7 нечетное\n",
        "very_even(222) => True -> 2 + 2 + 2 = 8 => 8 четное\n",
        "```"
      ]
    },
    {
      "cell_type": "code",
      "execution_count": null,
      "id": "aba8dc9c",
      "metadata": {
        "id": "aba8dc9c"
      },
      "outputs": [],
      "source": [
        "def very_even(number):\n",
        "    # Тело функции\n",
        "    return True"
      ]
    },
    {
      "cell_type": "markdown",
      "id": "8cb91aee",
      "metadata": {
        "id": "8cb91aee"
      },
      "source": [
        "Тесты:"
      ]
    },
    {
      "cell_type": "code",
      "execution_count": null,
      "id": "a482b7eb",
      "metadata": {
        "id": "a482b7eb"
      },
      "outputs": [],
      "source": [
        "import traceback\n",
        "try:\n",
        "    assert very_even(4) == True\n",
        "    assert very_even(5) == False\n",
        "    assert very_even(12) == False\n",
        "    assert very_even(1234) == False\n",
        "    assert very_even(7897) ==  True\n",
        "except AssertionError:\n",
        "    print(\"TEST ERROR - ОШИБКА В ТЕСТЕ\")\n",
        "    traceback.print_exc()\n",
        "else:\n",
        "    print(\"TEST PASSED - ТЕСТЫ ПРОЙДЕНЫ\")"
      ]
    },
    {
      "cell_type": "code",
      "source": [
        "def very_even(number):\n",
        "    if (number<10):\n",
        "      if (number % 2 == 0):\n",
        "        return True\n",
        "      else:\n",
        "        return False\n",
        "    else:\n",
        "      c=0\n",
        "      while (number>0):\n",
        "        c+=number%10\n",
        "        number//=10\n",
        "      return very_even(c)\n",
        "import traceback\n",
        "try:\n",
        "    assert very_even(4) == True\n",
        "    assert very_even(5) == False\n",
        "    assert very_even(12) == False\n",
        "    assert very_even(1234) == False\n",
        "    assert very_even(7897) ==  True\n",
        "except AssertionError:\n",
        "    print(\"TEST ERROR - ОШИБКА В ТЕСТЕ\")\n",
        "    traceback.print_exc()\n",
        "else:\n",
        "    print(\"TEST PASSED - ТЕСТЫ ПРОЙДЕНЫ\")"
      ],
      "metadata": {
        "colab": {
          "base_uri": "https://localhost:8080/"
        },
        "id": "Pinh5YYiKU6B",
        "outputId": "7c4d3f36-30fe-40ae-98e5-b9ea7bc7cef4"
      },
      "id": "Pinh5YYiKU6B",
      "execution_count": 2,
      "outputs": [
        {
          "output_type": "stream",
          "name": "stdout",
          "text": [
            "TEST PASSED - ТЕСТЫ ПРОЙДЕНЫ\n"
          ]
        }
      ]
    },
    {
      "cell_type": "markdown",
      "id": "13682ae8",
      "metadata": {
        "id": "13682ae8"
      },
      "source": [
        "## Задание A2\n",
        "Написать функцию sum_consecutives, которая в списке просуммирует подряд идущие одинаковые цифры и  \n",
        "заменит в списке их последовательность суммой.  \n",
        "\n",
        "Пример:\n",
        "```python\n",
        "[1,4,4,4,0,4,3,3,1] ==> [1,12,0,4,6,1]\n",
        "```"
      ]
    },
    {
      "cell_type": "code",
      "execution_count": null,
      "id": "2fbf40ed",
      "metadata": {
        "id": "2fbf40ed"
      },
      "outputs": [],
      "source": [
        "def sum_consecutives(arr):\n",
        "    # Тело функции\n",
        "    return []"
      ]
    },
    {
      "cell_type": "markdown",
      "id": "783442bf",
      "metadata": {
        "id": "783442bf"
      },
      "source": [
        "Тесты:"
      ]
    },
    {
      "cell_type": "code",
      "execution_count": null,
      "id": "2adaa059",
      "metadata": {
        "id": "2adaa059"
      },
      "outputs": [],
      "source": [
        "import traceback\n",
        "try:\n",
        "    assert sum_consecutives([1, 4, 4, 4, 0, 4, 3, 3, 1]) == [1, 12, 0, 4, 6, 1]\n",
        "    assert sum_consecutives([1, 1, 7, 7, 3]) == [2, 14, 3]\n",
        "    assert sum_consecutives([-5, -5, 7, 7, 12, 0]) == [-10, 14, 12, 0]\n",
        "    assert sum_consecutives([3, 3, 3, 3, 1]) == [12, 1]\n",
        "except AssertionError:\n",
        "    print(\"TEST ERROR - ОШИБКА В ТЕСТЕ\")\n",
        "    traceback.print_exc()\n",
        "else:\n",
        "    print(\"TEST PASSED - ТЕСТЫ ПРОЙДЕНЫ\")\n",
        "\n"
      ]
    },
    {
      "cell_type": "code",
      "source": [
        "def sum_consecutives(arr):\n",
        "    res=[]\n",
        "    summ=arr[0]\n",
        "    p=summ\n",
        "    for c in arr[1:]:\n",
        "        if c==p:\n",
        "            summ+=c\n",
        "        else:\n",
        "            res.append(summ)\n",
        "            summ=c\n",
        "        p=c\n",
        "    res.append(summ)\n",
        "    return res\n",
        "import traceback\n",
        "try:\n",
        "    assert sum_consecutives([1, 4, 4, 4, 0, 4, 3, 3, 1]) == [1, 12, 0, 4, 6, 1]\n",
        "    assert sum_consecutives([1, 1, 7, 7, 3]) == [2, 14, 3]\n",
        "    assert sum_consecutives([-5, -5, 7, 7, 12, 0]) == [-10, 14, 12, 0]\n",
        "    assert sum_consecutives([3, 3, 3, 3, 1]) == [12, 1]\n",
        "except AssertionError:\n",
        "    print(\"TEST ERROR - ОШИБКА В ТЕСТЕ\")\n",
        "    traceback.print_exc()\n",
        "else:\n",
        "    print(\"TEST PASSED - ТЕСТЫ ПРОЙДЕНЫ\")"
      ],
      "metadata": {
        "colab": {
          "base_uri": "https://localhost:8080/"
        },
        "id": "twNsqixeMJNv",
        "outputId": "4b2b9a05-5f16-4109-8e81-fa09f8e1e821"
      },
      "id": "twNsqixeMJNv",
      "execution_count": 69,
      "outputs": [
        {
          "output_type": "stream",
          "name": "stdout",
          "text": [
            "TEST PASSED - ТЕСТЫ ПРОЙДЕНЫ\n"
          ]
        }
      ]
    },
    {
      "cell_type": "markdown",
      "id": "4cdbbd64",
      "metadata": {
        "id": "4cdbbd64"
      },
      "source": [
        "## Задание A3\n",
        "Написать функцию кодирования encode(message, key)  \n",
        "Процесс шифрования: каждой букве латинского алфавита abcdefghijklmnopqrstuvwxyz  \n",
        "последовательно ставится в соответствие число от 1 до 26.  \n",
        "Дальше к каждому числу последовательно прибавляется цифры из ключа.  \n",
        "\n",
        "Пример:\n",
        "```python\n",
        "слово: abcxyz, код: 4567 =>\n",
        "[a->1, b->2, c->3, x->24, y->25, z->26] =>\n",
        "[1 + 4, 2 + 5, 3 + 6, 24 + 7, 25 + 4, 26 + 5] => код: [5, 7, 8, 31, 29, 31]\n",
        "```"
      ]
    },
    {
      "cell_type": "code",
      "execution_count": null,
      "id": "cbb6de6f",
      "metadata": {
        "id": "cbb6de6f"
      },
      "outputs": [],
      "source": [
        "def encode(message, key):\n",
        "    # Тело функции\n",
        "    return \"\""
      ]
    },
    {
      "cell_type": "markdown",
      "id": "0d7f1708",
      "metadata": {
        "id": "0d7f1708"
      },
      "source": [
        "Тесты:"
      ]
    },
    {
      "cell_type": "code",
      "execution_count": null,
      "id": "43319748",
      "metadata": {
        "id": "43319748"
      },
      "outputs": [],
      "source": [
        "import traceback\n",
        "try:\n",
        "    assert encode(\"scout\", 1939) == [20, 12, 18, 30, 21]\n",
        "    assert encode(\"masterpiece\", 1939) == [14, 10, 22, 29, 6, 27, 19, 18, 6, 12, 8]\n",
        "except AssertionError:\n",
        "    print(\"TEST ERROR - ОШИБКА В ТЕСТЕ\")\n",
        "    traceback.print_exc()\n",
        "else:\n",
        "    print(\"TEST PASSED - ТЕСТЫ ПРОЙДЕНЫ\")\n"
      ]
    },
    {
      "cell_type": "code",
      "source": [
        "def encode(message, key):\n",
        "  key=str(key)\n",
        "  return [ord(e) - 96 + int(key[i % len(key)]) for i, e in enumerate(message)]\n",
        "import traceback\n",
        "try:\n",
        "    assert encode(\"scout\", 1939) == [20, 12, 18, 30, 21]\n",
        "    assert encode(\"masterpiece\", 1939) == [14, 10, 22, 29, 6, 27, 19, 18, 6, 12, 8]\n",
        "except AssertionError:\n",
        "    print(\"TEST ERROR - ОШИБКА В ТЕСТЕ\")\n",
        "    traceback.print_exc()\n",
        "else:\n",
        "    print(\"TEST PASSED - ТЕСТЫ ПРОЙДЕНЫ\")"
      ],
      "metadata": {
        "colab": {
          "base_uri": "https://localhost:8080/"
        },
        "id": "4yb6_RRDOw92",
        "outputId": "bf90d91d-ba2f-49d5-bafd-3a5bed780b87"
      },
      "id": "4yb6_RRDOw92",
      "execution_count": 29,
      "outputs": [
        {
          "output_type": "stream",
          "name": "stdout",
          "text": [
            "TEST PASSED - ТЕСТЫ ПРОЙДЕНЫ\n"
          ]
        }
      ]
    },
    {
      "cell_type": "markdown",
      "id": "ca7630f5",
      "metadata": {
        "id": "ca7630f5"
      },
      "source": [
        "## Задание A4\n",
        "Написать функцию ips_between(start, end), которая возвращает  \n",
        "количество ip адресов, начиная с start и до end, не считая его.\n",
        "Start и end представляют собой список из четырех целых чисел, например [10, 0, 0, 50]\n",
        "```python\n",
        "```"
      ]
    },
    {
      "cell_type": "code",
      "execution_count": null,
      "id": "be3e4486",
      "metadata": {
        "id": "be3e4486"
      },
      "outputs": [],
      "source": [
        "def ips_between(start, end):\n",
        "    # Тело функции\n",
        "    return 0"
      ]
    },
    {
      "cell_type": "markdown",
      "id": "093eac95",
      "metadata": {
        "id": "093eac95"
      },
      "source": [
        "Тесты:"
      ]
    },
    {
      "cell_type": "code",
      "execution_count": null,
      "id": "0f9b5e6d",
      "metadata": {
        "id": "0f9b5e6d"
      },
      "outputs": [],
      "source": [
        "import traceback\n",
        "try:\n",
        "    assert ips_between([10, 0, 0, 0], [10, 0, 0, 50]) == 50\n",
        "    assert ips_between([20, 0, 0, 10], [20, 0, 1, 0]) == 246\n",
        "except AssertionError:\n",
        "    print(\"TEST ERROR - ОШИБКА В ТЕСТЕ\")\n",
        "    traceback.print_exc()\n",
        "else:\n",
        "    print(\"TEST PASSED - ТЕСТЫ ПРОЙДЕНЫ\")\n"
      ]
    },
    {
      "cell_type": "code",
      "source": [
        "def ips_between(start, end):\n",
        "    a=0\n",
        "    for i in range(0,4,1):\n",
        "      if start[i]!=end[i]:\n",
        "        if (start[i]==0):\n",
        "          a-=(255+end[i])**(3-i)*end[i]\n",
        "        elif (end[i]==0):\n",
        "          a+=(255+start[i])**(3-i)*start[i]\n",
        "    return abs(a)\n",
        "import traceback\n",
        "try:\n",
        "    assert ips_between([10, 0, 0, 0], [10, 0, 0, 50]) == 50\n",
        "    assert ips_between([20, 0, 0, 10], [20, 0, 1, 0]) == 246\n",
        "except AssertionError:\n",
        "    print(\"TEST ERROR - ОШИБКА В ТЕСТЕ\")\n",
        "    traceback.print_exc()\n",
        "else:\n",
        "    print(\"TEST PASSED - ТЕСТЫ ПРОЙДЕНЫ\")"
      ],
      "metadata": {
        "colab": {
          "base_uri": "https://localhost:8080/"
        },
        "id": "HkAYwLuyccer",
        "outputId": "148385d0-7a05-4e8c-b2fc-c275ea77910a"
      },
      "id": "HkAYwLuyccer",
      "execution_count": 67,
      "outputs": [
        {
          "output_type": "stream",
          "name": "stdout",
          "text": [
            "TEST PASSED - ТЕСТЫ ПРОЙДЕНЫ\n"
          ]
        }
      ]
    },
    {
      "cell_type": "markdown",
      "id": "a3d113c7",
      "metadata": {
        "id": "a3d113c7"
      },
      "source": [
        "## Задание A5\n",
        "Создать список (автосалон), состоящий из словарей (машина). Словари должны содержать как минимум 5 полей\n",
        "(например, номер, модель, год выпуска, ...). В список добавить хотя бы 10 словарей.\n",
        "```python\n",
        "Конструкция вида:\n",
        "cars = [{\"id\":123456, \"model\":\"Mercedes-Benz\", \"year\": 2019, ...} , {...}, {...}, ...].\n",
        "Реализовать функции:\n",
        "– вывода информации о всех машинах;\n",
        "– вывода информации о машине по введенному с клавиатуры номеру;\n",
        "– вывода количества машин, моложе введённого года;\n",
        "– обновлении всей информации о машине по введенному номеру;\n",
        "– удалении машины по номеру.\n",
        "```"
      ]
    },
    {
      "cell_type": "code",
      "execution_count": null,
      "id": "9971b3d2",
      "metadata": {
        "id": "9971b3d2"
      },
      "outputs": [],
      "source": [
        "cars ="
      ]
    },
    {
      "cell_type": "markdown",
      "id": "be4d5783",
      "metadata": {
        "id": "be4d5783"
      },
      "source": [
        "Тесты:"
      ]
    },
    {
      "cell_type": "code",
      "execution_count": null,
      "id": "a911cba2",
      "metadata": {
        "id": "a911cba2"
      },
      "outputs": [],
      "source": [
        " cars = [{\"id\":123456, \"model\":\"Mercedes-Benz\", \"year\":2019, \"color\":\"blue\", \"speed\" : 255},\n",
        "        {\"id\":123153, \"model\":\"Tesla\", \"year\":2009, \"color\":\"purple\", \"speed\" : 200},\n",
        "        {\"id\":123312, \"model\":\"Honda\", \"year\":2004, \"color\":\"red\", \"speed\" : 235},\n",
        "        {\"id\":123231, \"model\":\"Toyota\", \"year\":2013, \"color\":\"white\", \"speed\" : 236},\n",
        "        {\"id\":192385, \"model\":\"Ford\", \"year\":2022, \"color\":\"black\", \"speed\" : 223},\n",
        "        {\"id\":123413, \"model\":\"Hyundai\", \"year\":1996, \"color\":\"pink\", \"speed\" : 273},\n",
        "        {\"id\":125136, \"model\":\"Chevrolet\", \"year\":1998, \"color\":\"green\", \"speed\" : 217},\n",
        "        {\"id\":121236, \"model\":\"Lexus\", \"year\":1999, \"color\":\"violet\", \"speed\" : 239},\n",
        "        {\"id\":123556, \"model\":\"Renault\", \"year\":2000, \"color\":\"orange\", \"speed\" : 222},\n",
        "        {\"id\":141656, \"model\":\"Nissan\", \"year\":2001, \"color\":\"gray\", \"speed\" : 217}]\n",
        "\n",
        "def allcar(car):\n",
        "  for i in range(len(car)):\n",
        "        el = '{},{},{}'\\\n",
        "             .format( car[i].get('id'),\\\n",
        "                      car[i].get('title'),\\\n",
        "                      car[i].get('group') )\n",
        "        return el\n",
        "\n",
        "def ocar(car,x):\n",
        "  for i in range(len(car)):\n",
        "        el_sym = car[i].get('id')\n",
        "        if x is el_sym:\n",
        "            el2 = '{},{},{}'\\\n",
        "                  .format(car[i].get('id'),\\\n",
        "                  car[i].get('title'),\\\n",
        "                  car[i].get('group') )\n",
        "  return el2\n",
        "\n",
        "def mcar(car,x):\n",
        "  for i in range(len(car)):\n",
        "    el_sym=car[i].get('year')\n",
        "    if x > el_sym:\n",
        "      el3 = '{},{},{}'\\\n",
        "      .format(car[i].get('id'),\\\n",
        "      car[i].get('title'),\\\n",
        "      car[i].get('group') )\n",
        "    return el3\n",
        "\n",
        "def ucar(car,x):\n",
        " for i in car:\n",
        "  if i['id'] == x:\n",
        "    model = str(input(\"Введите название: \"))\n",
        "    year = int(input(\"Введите год: \"))\n",
        "    color = str(input(\"Введите цвет: \"))\n",
        "    speed=  int(input(\"Введите скорость: \"))\n",
        "\n",
        "def dcar(car,x):\n",
        "  for i in car:\n",
        "    if i['id'] == x:\n",
        "      del i"
      ]
    }
  ],
  "metadata": {
    "colab": {
      "provenance": [],
      "include_colab_link": true
    },
    "language_info": {
      "name": "python"
    },
    "kernelspec": {
      "name": "python3",
      "display_name": "Python 3"
    }
  },
  "nbformat": 4,
  "nbformat_minor": 5
}