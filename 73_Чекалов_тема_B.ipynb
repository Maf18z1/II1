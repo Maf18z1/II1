{
  "cells": [
    {
      "cell_type": "markdown",
      "metadata": {
        "id": "view-in-github",
        "colab_type": "text"
      },
      "source": [
        "<a href=\"https://colab.research.google.com/github/Maf18z1/II1/blob/II/73_%D0%A7%D0%B5%D0%BA%D0%B0%D0%BB%D0%BE%D0%B2_%D1%82%D0%B5%D0%BC%D0%B0_B.ipynb\" target=\"_parent\"><img src=\"https://colab.research.google.com/assets/colab-badge.svg\" alt=\"Open In Colab\"/></a>"
      ]
    },
    {
      "cell_type": "markdown",
      "id": "f1a5dc54",
      "metadata": {
        "id": "f1a5dc54"
      },
      "source": [
        "# Ознакомительная практика. Тема B. 73_Чекалов"
      ]
    },
    {
      "cell_type": "markdown",
      "id": "b2a1c53a",
      "metadata": {
        "id": "b2a1c53a"
      },
      "source": [
        "## Задание B1\n",
        "Написать функцию expanded_form, которая получает число и возвращает строку - сумму слагаемых числа.  \n",
        "Между слагаемыми поставить символ +, все отделить пробелами  \n",
        "\n",
        "Примеры:\n",
        "```python\n",
        "expanded_form(12345) ==> \"10000 + 2000 + 300 + 40 + 5\"\n",
        "```"
      ]
    },
    {
      "cell_type": "code",
      "execution_count": 13,
      "id": "1ec5a9c3",
      "metadata": {
        "id": "1ec5a9c3"
      },
      "outputs": [],
      "source": [
        "def expanded_form(num):\n",
        "    s=\"\"\n",
        "    for i in range(len(str(num))):\n",
        "      if (int(str(num)[i])!=0):\n",
        "        s+=str(int(str(num)[i])*10**(len(str(num))-i-1))\n",
        "      if (i!=len(str(num))-1)and(int(str(num)[i+1])!=0):\n",
        "        s+=\" + \"\n",
        "    return s"
      ]
    },
    {
      "cell_type": "markdown",
      "id": "da438218",
      "metadata": {
        "id": "da438218"
      },
      "source": [
        "Тесты:"
      ]
    },
    {
      "cell_type": "code",
      "execution_count": 14,
      "id": "39ecaeee",
      "metadata": {
        "colab": {
          "base_uri": "https://localhost:8080/"
        },
        "id": "39ecaeee",
        "outputId": "c38fe4f8-7509-4bfc-8071-580902d077a3"
      },
      "outputs": [
        {
          "output_type": "stream",
          "name": "stdout",
          "text": [
            "TEST PASSED - ТЕСТЫ ПРОЙДЕНЫ\n"
          ]
        }
      ],
      "source": [
        "import traceback\n",
        "try:\n",
        "    assert expanded_form(12345) == \"10000 + 2000 + 300 + 40 + 5\"\n",
        "    assert expanded_form(50) == \"50\"\n",
        "    assert expanded_form(47) == \"40 + 7\"\n",
        "    assert expanded_form(500206) == \"500000 + 200 + 6\"\n",
        "except AssertionError:\n",
        "    print(\"TEST ERROR - ОШИБКА В ТЕСТЕ\")\n",
        "    traceback.print_exc()\n",
        "else:\n",
        "    print(\"TEST PASSED - ТЕСТЫ ПРОЙДЕНЫ\")\n"
      ]
    },
    {
      "cell_type": "markdown",
      "id": "566006aa",
      "metadata": {
        "id": "566006aa"
      },
      "source": [
        "## Задание B2\n",
        "Написать функцию balance, которая получает небольшую чековую книжку в виде строки.  \n",
        "На первой строчке: первоначальный баланс, на последующих через пробел: номер чека, категория, цена.  \n",
        "Вернуть строку - видоизмененный чек с построчным добавлением остатка баланса.  \n",
        "А на последних строчках добавить потраченную сумму и остаток.  \n",
        "\n",
        "Примеры:\n",
        "```python\n",
        "book = \"1000.00\n",
        "125 Market 125.45\n",
        "126 Hardware 34.95\n",
        "127 Video 7.45\n",
        "128 Book 14.32\n",
        "129 Gasoline 16.10\"\n",
        "balance(book) ==>\n",
        "\"Original_Balance:_1000.00\n",
        "125_Market_125.45_Balance_874.55\n",
        "126_Hardware_34.95_Balance_839.60\n",
        "127_Video_7.45_Balance_832.15\n",
        "128_Book_14.32_Balance_817.83\n",
        "129_Gasoline_16.10_Balance_801.73\n",
        "Total_expense__198.27\n",
        "Average_expense__39.65\"\n",
        "```"
      ]
    },
    {
      "cell_type": "code",
      "execution_count": 117,
      "id": "00d216d0",
      "metadata": {
        "colab": {
          "base_uri": "https://localhost:8080/"
        },
        "id": "00d216d0",
        "outputId": "625e03a5-b216-475a-9f6e-ad444422872d"
      },
      "outputs": [
        {
          "output_type": "stream",
          "name": "stdout",
          "text": [
            "1000.0\n",
            "125.45\n",
            "34.95\n",
            "7.45\n",
            "14.32\n",
            "16.1\n",
            "Original Balance: 1000.00\r Market \r Hardware \r Video \r Book \r Gasoline \r\n"
          ]
        }
      ],
      "source": [
        "def balance(book):\n",
        "  s=\"Original Balance: \"\n",
        "  book=book.split(\"\\n\")\n",
        "  for book1 in book:\n",
        "    y=\"\"\n",
        "    if book1==book[0]:\n",
        "      for i in range(len(book1)):\n",
        "        if ((ord(book1[i])>=48 and ord(book1[i])<=57)or ord(book1[i])==46):\n",
        "          y+=book1[i]\n",
        "      s+=y\n",
        "    else:\n",
        "      for i in range(3,len(book1)):\n",
        "        if ((ord(book1[i])>=48 and ord(book1[i])<=57)or ord(book1[i])==46):\n",
        "          y+=book1[i]\n",
        "      for i in range(len(book1)):\n",
        "        if ((ord(book1[i])>=97 and ord(book1[i])<=122)or\\\n",
        "          (ord(book1[i])>=65 and ord(book1[i])<=90)or\n",
        "          (ord(book1[i])==32)):\n",
        "          s+=book1[i]\n",
        "    y=float(y)\n",
        "    print(y)\n",
        "    s+=\"\\r\"\n",
        "  return s\n",
        "b1 = \"\"\"1000.00!=\n",
        "125 Market !=:125.45\n",
        "126 Hardware =34.95\n",
        "127 Video! 7.45\n",
        "128 Book :14.32\n",
        "129 Gasoline ::16.10\"\"\"\n",
        "print(balance(b1))"
      ]
    },
    {
      "cell_type": "markdown",
      "id": "fffb51ea",
      "metadata": {
        "id": "fffb51ea"
      },
      "source": [
        "Тесты:"
      ]
    },
    {
      "cell_type": "code",
      "execution_count": 19,
      "id": "59d3439a",
      "metadata": {
        "colab": {
          "base_uri": "https://localhost:8080/",
          "height": 332
        },
        "id": "59d3439a",
        "outputId": "e1b41b8e-a47f-48c5-ec7b-164d21f40ddf"
      },
      "outputs": [
        {
          "output_type": "error",
          "ename": "ValueError",
          "evalue": "could not convert string to float: '1000.00!='",
          "traceback": [
            "\u001b[0;31m---------------------------------------------------------------------------\u001b[0m",
            "\u001b[0;31mValueError\u001b[0m                                Traceback (most recent call last)",
            "\u001b[0;32m<ipython-input-19-0be92fc77e7b>\u001b[0m in \u001b[0;36m<cell line: 50>\u001b[0;34m()\u001b[0m\n\u001b[1;32m     49\u001b[0m \u001b[0;32mimport\u001b[0m \u001b[0mtraceback\u001b[0m\u001b[0;34m\u001b[0m\u001b[0;34m\u001b[0m\u001b[0m\n\u001b[1;32m     50\u001b[0m \u001b[0;32mtry\u001b[0m\u001b[0;34m:\u001b[0m\u001b[0;34m\u001b[0m\u001b[0;34m\u001b[0m\u001b[0m\n\u001b[0;32m---> 51\u001b[0;31m     \u001b[0;32massert\u001b[0m \u001b[0mbalance\u001b[0m\u001b[0;34m(\u001b[0m\u001b[0mb1\u001b[0m\u001b[0;34m)\u001b[0m \u001b[0;34m==\u001b[0m \u001b[0mb1sol\u001b[0m\u001b[0;34m\u001b[0m\u001b[0;34m\u001b[0m\u001b[0m\n\u001b[0m\u001b[1;32m     52\u001b[0m     \u001b[0;32massert\u001b[0m \u001b[0mbalance\u001b[0m\u001b[0;34m(\u001b[0m\u001b[0mb2\u001b[0m\u001b[0;34m)\u001b[0m \u001b[0;34m==\u001b[0m \u001b[0mb2sol\u001b[0m\u001b[0;34m\u001b[0m\u001b[0;34m\u001b[0m\u001b[0m\n\u001b[1;32m     53\u001b[0m \u001b[0;32mexcept\u001b[0m \u001b[0mAssertionError\u001b[0m\u001b[0;34m:\u001b[0m\u001b[0;34m\u001b[0m\u001b[0;34m\u001b[0m\u001b[0m\n",
            "\u001b[0;32m<ipython-input-17-e38137d8ac60>\u001b[0m in \u001b[0;36mbalance\u001b[0;34m(book)\u001b[0m\n\u001b[1;32m      1\u001b[0m \u001b[0;32mdef\u001b[0m \u001b[0mbalance\u001b[0m\u001b[0;34m(\u001b[0m\u001b[0mbook\u001b[0m\u001b[0;34m)\u001b[0m\u001b[0;34m:\u001b[0m\u001b[0;34m\u001b[0m\u001b[0;34m\u001b[0m\u001b[0m\n\u001b[1;32m      2\u001b[0m     \u001b[0mlines\u001b[0m \u001b[0;34m=\u001b[0m \u001b[0mbook\u001b[0m\u001b[0;34m.\u001b[0m\u001b[0msplit\u001b[0m\u001b[0;34m(\u001b[0m\u001b[0;34m\"\\n\"\u001b[0m\u001b[0;34m)\u001b[0m\u001b[0;34m\u001b[0m\u001b[0;34m\u001b[0m\u001b[0m\n\u001b[0;32m----> 3\u001b[0;31m     \u001b[0moriginal_balance\u001b[0m \u001b[0;34m=\u001b[0m \u001b[0mfloat\u001b[0m\u001b[0;34m(\u001b[0m\u001b[0mlines\u001b[0m\u001b[0;34m[\u001b[0m\u001b[0;36m0\u001b[0m\u001b[0;34m]\u001b[0m\u001b[0;34m)\u001b[0m\u001b[0;34m\u001b[0m\u001b[0;34m\u001b[0m\u001b[0m\n\u001b[0m\u001b[1;32m      4\u001b[0m     \u001b[0mtotal_expense\u001b[0m \u001b[0;34m=\u001b[0m \u001b[0;36m0\u001b[0m\u001b[0;34m\u001b[0m\u001b[0;34m\u001b[0m\u001b[0m\n\u001b[1;32m      5\u001b[0m     \u001b[0mitems\u001b[0m \u001b[0;34m=\u001b[0m \u001b[0;34m[\u001b[0m\u001b[0;34m]\u001b[0m\u001b[0;34m\u001b[0m\u001b[0;34m\u001b[0m\u001b[0m\n",
            "\u001b[0;31mValueError\u001b[0m: could not convert string to float: '1000.00!='"
          ]
        }
      ],
      "source": [
        "b1 = \"\"\"1000.00!=\n",
        "125 Market !=:125.45\n",
        "126 Hardware =34.95\n",
        "127 Video! 7.45\n",
        "128 Book :14.32\n",
        "129 Gasoline ::16.10\"\"\"\n",
        "\n",
        "b1sol = \"\"\"Original Balance: 1000.00\\r\n",
        "125 Market 125.45 Balance 874.55\\r\n",
        "126 Hardware 34.95 Balance 839.60\\r\n",
        "127 Video 7.45 Balance 832.15\\r\n",
        "128 Book 14.32 Balance 817.83\\r\n",
        "129 Gasoline 16.10 Balance 801.73\\r\n",
        "Total expense  198.27\\r\n",
        "Average expense  39.65\"\"\"\n",
        "\n",
        "b2=\"\"\"1233.00\n",
        "125 Hardware;! 24.8?;\n",
        "123 Flowers 93.5\n",
        "127 Meat 120.90\n",
        "120 Picture 34.00\n",
        "124 Gasoline 11.00\n",
        "123 Photos;! 71.4?;\n",
        "122 Picture 93.5\n",
        "132 Tyres;! 19.00,?;\n",
        "129 Stamps 13.6\n",
        "129 Fruits{} 17.6\n",
        "129 Market;! 128.00?;\n",
        "121 Gasoline;! 13.6?;\"\"\"\n",
        "\n",
        "b2sol = \"\"\"Original Balance: 1233.00\\r\n",
        "125 Hardware 24.80 Balance 1208.20\\r\n",
        "123 Flowers 93.50 Balance 1114.70\\r\n",
        "127 Meat 120.90 Balance 993.80\\r\n",
        "120 Picture 34.00 Balance 959.80\\r\n",
        "124 Gasoline 11.00 Balance 948.80\\r\n",
        "123 Photos 71.40 Balance 877.40\\r\n",
        "122 Picture 93.50 Balance 783.90\\r\n",
        "132 Tyres 19.00 Balance 764.90\\r\n",
        "129 Stamps 13.60 Balance 751.30\\r\n",
        "129 Fruits 17.60 Balance 733.70\\r\n",
        "129 Market 128.00 Balance 605.70\\r\n",
        "121 Gasoline 13.60 Balance 592.10\\r\n",
        "Total expense  640.90\\r\n",
        "Average expense  53.41\"\"\"\n",
        "\n",
        "\n",
        "import traceback\n",
        "try:\n",
        "    assert balance(b1) == b1sol\n",
        "    assert balance(b2) == b2sol\n",
        "except AssertionError:\n",
        "    print(\"TEST ERROR - ОШИБКА В ТЕСТЕ\")\n",
        "    traceback.print_exc()\n",
        "else:\n",
        "    print(\"TEST PASSED - ТЕСТЫ ПРОЙДЕНЫ\")\n"
      ]
    },
    {
      "cell_type": "markdown",
      "id": "aebc990f",
      "metadata": {
        "id": "aebc990f"
      },
      "source": [
        "## Задание B3\n",
        "Написать функцию anagram_difference, на вход которой дан список слов и которая  \n",
        "определяет сколько всего букв нужно удалить из всех слов, чтобы они все являлись  \n",
        "анаграммами (каждое слово получалось перестановкой букв другого)  \n",
        "\n",
        "Пример:\n",
        "```python\n",
        "anagram_difference[\"hello\", \"hola\", \"allo\"] ==> 7 ([\"lo\", \"ol\", \"lo\"]\n",
        "```"
      ]
    },
    {
      "cell_type": "code",
      "execution_count": null,
      "id": "4b9a8eb3",
      "metadata": {
        "id": "4b9a8eb3"
      },
      "outputs": [],
      "source": [
        "def anagram_difference(words):\n",
        "    # Тело функции\n",
        "    return 0"
      ]
    },
    {
      "cell_type": "markdown",
      "id": "bbe0e40e",
      "metadata": {
        "id": "bbe0e40e"
      },
      "source": [
        "Тесты:"
      ]
    },
    {
      "cell_type": "code",
      "execution_count": null,
      "id": "50ad14ce",
      "metadata": {
        "id": "50ad14ce"
      },
      "outputs": [],
      "source": [
        "import traceback\n",
        "try:\n",
        "    assert anagram_difference([\"abc\", \"ab\", \"a\"]) == 3\n",
        "    assert anagram_difference([\"hello\", \"hola\", \"allo\"]) == 7\n",
        "    assert anagram_difference([\"cat\", \"dog\", \"mouse\"]) == 11\n",
        "    assert anagram_difference([\"mouse\", \"house\", \"hose\", \"host\"]) == 10\n",
        "except AssertionError:\n",
        "    print(\"TEST ERROR - ОШИБКА В ТЕСТЕ\")\n",
        "    traceback.print_exc()\n",
        "else:\n",
        "    print(\"TEST PASSED - ТЕСТЫ ПРОЙДЕНЫ\")\n"
      ]
    },
    {
      "cell_type": "markdown",
      "id": "f774492a",
      "metadata": {
        "id": "f774492a"
      },
      "source": [
        "## Задание B4\n"
      ]
    },
    {
      "cell_type": "code",
      "execution_count": null,
      "id": "2d0e861c",
      "metadata": {
        "id": "2d0e861c"
      },
      "outputs": [],
      "source": [
        "# Создать txt-файл, вставить туда любую англоязычную статью из Википедии.\n",
        "# Реализовать одну функцию, которая выполняет следующие операции:\n",
        "# - прочитать файл построчно;\n",
        "# - непустые строки добавить в список;\n",
        "# - удалить из каждой строки все цифры, знаки препинания, скобки, кавычки и т.д. (остаются латинские буквы и пробелы);\n",
        "# - объединить все строки из списка в одну, используя метод join и пробел, как разделитель;\n",
        "# - создать словарь вида {“слово”: количество, “слово”: количество, … } для подсчета количества разных слов,\n",
        "#   где ключом будет уникальное слово, а значением - количество;\n",
        "# - вывести в порядке убывания 10 наиболее популярных слов, используя форматирование\n",
        "#   (вывод примерно следующего вида: “ 1 place --- sun --- 15 times \\n....”);\n",
        "# - заменить все эти слова в строке на слово “PYTHON”;\n",
        "# - создать новый txt-файл;\n",
        "# - записать строку в файл, разбивая на строки, при этом на каждой строке записывать не более 100 символов\n",
        "#   при этом не делить слова.\n",
        "\n",
        "\n",
        "def wiki_function():\n",
        "    # Тело функции\n",
        "    return 1"
      ]
    }
  ],
  "metadata": {
    "colab": {
      "provenance": [],
      "include_colab_link": true
    },
    "language_info": {
      "name": "python"
    },
    "kernelspec": {
      "name": "python3",
      "display_name": "Python 3"
    }
  },
  "nbformat": 4,
  "nbformat_minor": 5
}